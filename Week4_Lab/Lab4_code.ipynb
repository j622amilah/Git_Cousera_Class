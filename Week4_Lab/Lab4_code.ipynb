{
 "cells": [
  {
   "cell_type": "code",
   "execution_count": 1,
   "id": "4a13c2c5",
   "metadata": {},
   "outputs": [],
   "source": [
    "import re\n",
    "\n",
    "def validate_user(username, minlen):\n",
    "    \"\"\"Checks if the received username matches the required conditions.\"\"\"\n",
    "    if type(username) != str:\n",
    "        raise TypeError(\"username must be a string\")\n",
    "    if minlen < 1:\n",
    "        raise ValueError(\"minlen must be at least 1\")\n",
    "    \n",
    "    # Usernames can't be shorter than minlen\n",
    "    if len(username) < minlen:\n",
    "        return False\n",
    "    # Usernames can only use letters, numbers, dots and underscores\n",
    "    #  re.match('^[a-z0-9._]*$', username)\n",
    "    if not re.match(r\"^[a-zA-Z]\"\n",
    "                    r\"[a-z0-9._]*\"\n",
    "                    r\"$\", username):\n",
    "        return False\n",
    "    # Usernames can't begin with a number\n",
    "    if username[0].isnumeric():\n",
    "        return False\n",
    "    return True\n"
   ]
  },
  {
   "cell_type": "code",
   "execution_count": null,
   "id": "089f4ba2",
   "metadata": {},
   "outputs": [],
   "source": []
  },
  {
   "cell_type": "code",
   "execution_count": 2,
   "id": "063c2354",
   "metadata": {},
   "outputs": [
    {
     "name": "stdout",
     "output_type": "stream",
     "text": [
      "True\n",
      "False\n",
      "True\n",
      "False\n"
     ]
    }
   ],
   "source": [
    "print(validate_user(\"blue.kale\", 3)) # True\n",
    "print(validate_user(\".blue.kale\", 3)) # Currently True, should be False\n",
    "print(validate_user(\"red_quinoa\", 4)) # True\n",
    "print(validate_user(\"_red_quinoa\", 4)) # Currently True, should be False"
   ]
  },
  {
   "cell_type": "code",
   "execution_count": null,
   "id": "ef4f18da",
   "metadata": {},
   "outputs": [],
   "source": []
  },
  {
   "cell_type": "code",
   "execution_count": null,
   "id": "2c2c44ed",
   "metadata": {},
   "outputs": [],
   "source": []
  }
 ],
 "metadata": {
  "kernelspec": {
   "display_name": "Python 3 (ipykernel)",
   "language": "python",
   "name": "python3"
  },
  "language_info": {
   "codemirror_mode": {
    "name": "ipython",
    "version": 3
   },
   "file_extension": ".py",
   "mimetype": "text/x-python",
   "name": "python",
   "nbconvert_exporter": "python",
   "pygments_lexer": "ipython3",
   "version": "3.8.13"
  }
 },
 "nbformat": 4,
 "nbformat_minor": 5
}
