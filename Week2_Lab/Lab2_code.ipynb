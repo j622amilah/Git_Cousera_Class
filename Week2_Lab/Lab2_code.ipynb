{
 "cells": [
  {
   "cell_type": "code",
   "execution_count": 2,
   "id": "11b42a8b",
   "metadata": {},
   "outputs": [
    {
     "name": "stdout",
     "output_type": "stream",
     "text": [
      "Select your favorite food below:\n",
      "pie\n",
      "burgers\n",
      "pizza\n",
      "tacos\n",
      "fried chicken\n",
      "spaghetti\n",
      "rice\n",
      "cake\n",
      "broccoli\n",
      "cereal\n",
      "salad\n",
      "avocados\n",
      "ice cream\n",
      "fish\n",
      "strawberries\n",
      "bananas\n",
      "watermelon\n",
      "\n",
      "Which of the foods above is your favorite? ice cream\n",
      "5 of your friends like ice cream as well!\n"
     ]
    }
   ],
   "source": [
    "# Dictionary to keep track of food likes\n",
    "counter = {}\n",
    "\n",
    "# Open up the favorite foods log and count frequencies using the dictionary\n",
    "with open(\"favorite_foods_lab_data.log\", \"r\") as f:\n",
    "    for line in f:\n",
    "        food_item = line.strip()\n",
    "        if food_item not in counter:\n",
    "            counter[food_item] = 1\n",
    "        else:\n",
    "            counter[food_item] += 1\n",
    "\n",
    "# Print out all the available liked foods\n",
    "print(\"Select your favorite food below:\")\n",
    "for item in counter:\n",
    "    print(item)\n",
    "\n",
    "# Ask which food is the user's favorite\n",
    "answer = input(\"Which of the foods above is your favorite? \")\n",
    "answer = answer.lower()\n",
    "\n",
    "# Print out how many others like the user's favorite food, otherwise say it can't be found\n",
    "try:\n",
    "    print(\"{} of your friends like {} as well!\".format(counter[answer], answer))\n",
    "    exit(0)\n",
    "except KeyError:\n",
    "    print(\"Hmm we couldn't find anyone who also likes \\\"{}\\\".\".format(answer))\n",
    "    print(\"Did you enter one of the foods listed above?\")\n",
    "    exit(0)\n"
   ]
  },
  {
   "cell_type": "code",
   "execution_count": null,
   "id": "d4654cc7",
   "metadata": {},
   "outputs": [],
   "source": []
  }
 ],
 "metadata": {
  "kernelspec": {
   "display_name": "Python 3 (ipykernel)",
   "language": "python",
   "name": "python3"
  },
  "language_info": {
   "codemirror_mode": {
    "name": "ipython",
    "version": 3
   },
   "file_extension": ".py",
   "mimetype": "text/x-python",
   "name": "python",
   "nbconvert_exporter": "python",
   "pygments_lexer": "ipython3",
   "version": "3.8.13"
  }
 },
 "nbformat": 4,
 "nbformat_minor": 5
}
